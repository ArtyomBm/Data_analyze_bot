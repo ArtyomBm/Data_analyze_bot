{
  "metadata": {
    "kernelspec": {
      "name": "python",
      "display_name": "Python (Pyodide)",
      "language": "python"
    },
    "language_info": {
      "codemirror_mode": {
        "name": "python",
        "version": 3
      },
      "file_extension": ".py",
      "mimetype": "text/x-python",
      "name": "python",
      "nbconvert_exporter": "python",
      "pygments_lexer": "ipython3",
      "version": "3.8"
    }
  },
  "nbformat_minor": 5,
  "nbformat": 4,
  "cells": [
    {
      "cell_type": "markdown",
      "source": "Hello!\n\nWe have chosen a dataset that contains information on films. It has 8 columns and over 9000 rows.\n\nThis dataset provides information on films’ release date, title, their overview and popularity. It also contains information on films’ vote count, vote average, original language, genre, and even a poster!\n\nWe hope you will enjoy the chat bot that will help you to find the film for you! 🎥",
      "metadata": {},
      "id": "20825b62-b1eb-41e8-93cd-89aa90f057ff"
    },
    {
      "cell_type": "markdown",
      "source": "The 1-st function filters movies using 3 parameters: genre, release year, language and chooses those films, which are suitable for user.\nThe function will read the file with data and ask user questions about preferences in genre, release year and language. Then it will write certain raws to our new file.",
      "metadata": {},
      "id": "b89126c8-cb40-42f3-9424-cd6d0b7dbce4"
    },
    {
      "cell_type": "code",
      "source": "def movie_reccomendation():\n    a = []\n    first_line = ''\n    with open('mymoviedb.csv', encoding='utf-8') as f:\n        for i in f:\n            if len(first_line) == 0:\n                first_line += i.replace('\\n', '')\n            if i.split(',')[0][:4].isdigit() and i.split(',')[-1][-4:-1] == 'jpg':\n                a.append(i.replace('\\n', ''))\n    unique_genres = []\n    for i in a:\n        for j in i.replace(', ', '@').split(',')[-2].split('@'):\n            unique_genres.append(j.replace('\"', '').lower())\n    unique_genres = set(unique_genres)\n    print(\"Hello, I am your movies chat-bot and let's find out the most suitable film for you)\")\n\n    genre_1 = input('What genres do you prefer? Please write like: comedy, crime, mystery... ').lower()\n    genre = genre_1.split(', ')\n    while any(i not in unique_genres for i in genre):\n        genre = []\n        print('I have no movies with this genre( Please choose some from:')\n        genre_1 = input(f'{unique_genres} \\n')\n        for j in genre_1.split(', '):\n            genre.append(j)\n    a_filtered1 = []\n    for i in genre:\n        for j in a:\n            if i.capitalize() in j.replace(', ', '@').split(',')[-2].split('@'):\n                a_filtered1.append(j)\n\n    year = input('What year of film release do you prefer?: ')\n    while all(i.replace(\", \", '@').split(',')[0].split('-')[0] != year for i in a_filtered1):\n        year = input('Sorry, there are no movies released this year in my list, try another date: ')\n    a_filtered2 = []\n    for i in a_filtered1:\n        if i.split(',')[0].split('-')[0] == year:\n            a_filtered2.append(i)\n\n    all_languages = []\n    for i in a_filtered2:\n        all_languages.append(i.replace(\", \", '@').split(',')[-3])\n    all_languages = set(all_languages)\n\n    language = input(f'Please choose the language of movie from {all_languages}: ')\n    while language not in all_languages:\n        language = input(f'Sorry, there are no films on this language left, please choose from {all_languages}: ')\n    a_filtered3 = []\n    for i in a_filtered2:\n        if i.replace(\", \", '@').split(',')[-3] == language:\n            a_filtered3.append(i)\n    with open('movies.reccomendations.csv', 'w', encoding='utf-8') as out:\n        print(first_line, file=out)\n        for i in a_filtered3:\n            print(i, file=out)",
      "metadata": {
        "trusted": true
      },
      "execution_count": 2,
      "outputs": [],
      "id": "21db058e-168e-4d86-82c0-f4627845c4ca"
    },
    {
      "cell_type": "markdown",
      "source": "Hello, I am your movies chat-bot and let's find out the most suitable film for you)\nWhat genres do you prefer? Please write like: comedy, crime, mystery... crime, mystery\nWhat year of film release do you prefer?: 2021\nPlease choose the language of movie from {'fi', 'hi', 'is', 'en', 'es', 'id', 'nl', 'ja', 'it'}: en",
      "metadata": {},
      "id": "de6a0562-674a-4381-bde7-c4f583d925c5"
    },
    {
      "cell_type": "markdown",
      "source": "The 2-nd function also filters films with genre and language, but the last parameter is a range of rating.\nThe function will read info from the file with data, then ask user questions about range of rating, genre and language. After that write suitable raws into a new file.",
      "metadata": {},
      "id": "7f88194b-93ac-4aeb-98ea-fb4d50d77bed"
    },
    {
      "cell_type": "code",
      "source": "def movie_with_range_of_rating():\n    a = []\n    first_line = ''\n    with open('mymoviedb.csv', encoding='utf-8') as f:\n        for i in f:\n            if len(first_line) == 0:\n                first_line += i.replace('\\n', '')\n            if i.split(',')[0][:4].isdigit() and i.split(',')[-1][-4:-1] == 'jpg':\n                a.append(i.replace('\\n', ''))\n\n    print(\"Hello, I am your movies chat-bot and let's find out suitable films for you with the best rating)\")\n    rating_values = input('Please write 2 rating values using a comma for making range. E.g. 7, 8.3: ').split(', ')\n    while True:\n        rating_values_true = []\n        counting = 0\n        for i in rating_values:\n            try:\n                rating_values_true.append(float(i))\n                counting += 1\n            except ValueError:\n                rating_values = input(\"Don't get you. Please repeat in that format as an example: 7, 8.3: \").split(', ')\n                break\n        if counting == 2 and len(rating_values) == 2:\n            break\n    a_filtered1 = []\n    for i in a:\n        j = i.replace(', ', '@').split(',')[-4]\n        if float(j) >= min(rating_values_true) and float(j) <= max(rating_values_true):\n            a_filtered1.append(i)\n\n    unique_genres = []\n    for i in a:\n        for j in i.replace(', ', '@').split(',')[-2].split('@'):\n            unique_genres.append(j.replace('\"', '').lower())\n    unique_genres = set(unique_genres)\n\n    genre_1 = input('What genres you are interested in? Please write and follow '\n                    'this format: comedy, crime, mystery... ').lower()\n    genre = genre_1.split(', ')\n    while any(i not in unique_genres for i in genre):\n        genre = []\n        print('Oh sorry, this genre is empty in my list, can you please choose others from this list:')\n        genre_1 = input(f'{unique_genres} \\n')\n        for j in genre_1.split(', '):\n            genre.append(j)\n    a_filtered2 = []\n    for i in genre:\n        for j in a_filtered1:\n            if i.capitalize() in j.replace(', ', '@').split(',')[-2].split('@'):\n                a_filtered2.append(j)\n\n    all_languages = []\n    for i in a_filtered2:\n        all_languages.append(i.replace(\", \", '@').split(',')[-3])\n    all_languages = set(all_languages)\n\n    language = input(f'Please choose the language of movie from {all_languages}: ')\n    while language not in all_languages:\n        language = input(f'Sorry, there are no films on this language left, please choose from {all_languages}: ')\n    a_filtered3 = []\n    for i in a_filtered2:\n        if i.replace(\", \", '@').split(',')[-3] == language:\n            a_filtered3.append(i)\n    with open('movies.ratings.csv', 'w', encoding='utf-8') as out:\n        print(first_line, file=out)\n        for i in a_filtered3:\n            print(i, file=out)",
      "metadata": {
        "trusted": true
      },
      "execution_count": 3,
      "outputs": [],
      "id": "fc341ac6-9480-4816-9515-8acddb4249de"
    },
    {
      "cell_type": "markdown",
      "source": "Hello, I am your movies chat-bot and let's find out suitable films for you with the best rating)\nPlease write 2 rating values using a comma for making range. E.g. 7, 8.3: 8, 8.5\nWhat genres you are interested in? Please write and follow this format: comedy, crime, mystery... crime, drama\nPlease choose the language of movie from {'da', 'it', 'fr', 'zh', 'tr', 'sv', 'th', 'ko', 'hi', 'ja', 'pt', 'ru', 'en', 'ar', 'es'}: en",
      "metadata": {},
      "id": "36b65936-8071-4e8f-a40f-8385fc32eb32"
    },
    {
      "cell_type": "markdown",
      "source": "The last function will have 3 parameters: genre, range of year, language. But is also will give user some films, which are suitable for his requests, sorted alphabetical by their names.",
      "metadata": {},
      "id": "cd86119d-8437-456f-8624-a5190004cdf0"
    },
    {
      "cell_type": "code",
      "source": "def sorted_films_with_preferences():    \n    a = []\n    first_line = ''\n    with open('mymoviedb.csv', encoding='utf-8') as f:\n        for i in f:\n            if len(first_line) == 0:\n                first_line += i.replace('\\n', '')\n            if i.split(',')[0][:4].isdigit() and i.split(',')[-1][-4:-1] == 'jpg':\n                a.append(i.replace('\\n', ''))\n\n    print(\"Hello honey, here I am as your chat-bot and will give you a hand with choosing the best film)\")\n    unique_genres = []\n    for i in a:\n        for j in i.replace(', ', '@').split(',')[-2].split('@'):\n            unique_genres.append(j.replace('\"', '').lower())\n    unique_genres = set(unique_genres)\n    genre_1 = input('Would you like to watch drama or mb mystery? List you preferences. E.g. crime, drama... ').lower()\n    genre = genre_1.split(', ')\n    while any(i not in unique_genres for i in genre):\n        genre = []\n        print('My apologizes, no movies left with this genre, can you please choose other variants from:')\n        genre_1 = input(f'{unique_genres} \\n')\n        for j in genre_1.split(', '):\n            genre.append(j)\n    a_filtered1 = []\n    for i in genre:\n        for j in a:\n            if i.capitalize() in j.replace(', ', '@').split(',')[-2].split('@'):\n                a_filtered1.append(j)\n\n    years = input('Are old films better than new ones? Just link 2 numbers for '\n                'range of release year and find it out. E.g., 2010 - 2020: ').split(' - ')\n    while True:\n        years_true = []\n        counting = 0\n        for i in years:\n            try:\n                years_true.append(int(i))\n                counting += 1\n            except ValueError:\n                years = input(\"Don't understand, please link as: 2010 - 2020: \").split(' - ')\n                break\n        if counting == 2 and len(years) == 2:\n            break\n    a_filtered2 = []\n    for i in a_filtered1:\n        j = i.split(',')[0].split('-')[0]\n        if int(j) >= min(years_true) and int(j) <= max(years_true):\n            a_filtered2.append(i)\n\n    all_languages = []\n    for i in a_filtered2:\n        all_languages.append(i.replace(\", \", '@').split(',')[-3])\n    all_languages = set(all_languages)\n\n    language = input(f'What language from list do you prefer? {all_languages}: ')\n    while language not in all_languages:\n        language = input(f\"Sorry, incorrect language or it doesn't exist, please choose one from: {all_languages}: \")\n    a_filtered3 = []\n    for i in a_filtered2:\n        if i.replace(\", \", '@').split(',')[-3] == language:\n            a_filtered3.append(i)\n\n    a_for_sort = []\n    for i in a_filtered2:\n        a_for_sort.append(i.replace(', ', '@').split(',')[1].replace('@', ', '))\n    a_for_sort.sort()\n    a_filtered4 = []\n    for i in a_for_sort:\n        for j in a_filtered2:\n            if i == j.split(',')[1]:\n                a_filtered4.append(j)\n    with open('movies.name_sorted.csv', 'w', encoding='utf-8') as out:\n        print(first_line, file=out)\n        for i in a_filtered4:\n            print(i, file=out)",
      "metadata": {
        "trusted": true
      },
      "execution_count": 5,
      "outputs": [],
      "id": "765366bd-3c91-4784-ab5c-3d8aac719584"
    },
    {
      "cell_type": "markdown",
      "source": "Hello honey, here I am as your chat-bot and will give you a hand with choosing the best film)\nWould you like to watch drama or mb mystery? List you preferences. E.g. crime, drama... crime\nAre old films better than new ones? Just link 2 numbers for range of release year and find it out. E.g., 2010 - 2020: 2010 - 2020\nWhat language from list do you prefer? {'id', 'th', 'en', 'fr', 'es', 'pt', 'cn', 'de', 'hi', 'ko', 'da', 'zh', 'ja', 'no', 'it'}: en",
      "metadata": {},
      "id": "5d4cd1f0-5405-4e92-a70c-7951068fc481"
    }
  ]
}